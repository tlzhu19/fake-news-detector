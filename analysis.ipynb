{
 "cells": [
  {
   "cell_type": "code",
   "execution_count": 1,
   "metadata": {},
   "outputs": [],
   "source": [
    "import kaggle\n",
    "import pandas as pd\n",
    "import numpy as np\n",
    "import matplotlib as plt\n",
    "from joblib import dump, load\n",
    "\n",
    "from sklearn.model_selection import train_test_split\n",
    "from sklearn.pipeline import Pipeline\n",
    "from sklearn.feature_extraction.text import CountVectorizer, TfidfTransformer\n",
    "from sklearn.naive_bayes import MultinomialNB\n",
    "from sklearn import metrics"
   ]
  },
  {
   "cell_type": "markdown",
   "metadata": {},
   "source": [
    "# 1. Data Preprocessing"
   ]
  },
  {
   "cell_type": "code",
   "execution_count": 2,
   "metadata": {},
   "outputs": [],
   "source": [
    "kaggle.api.authenticate()\n",
    "kaggle_dataset = 'jruvika/fake-news-detection'\n",
    "kaggle.api.dataset_download_files(kaggle_dataset, path='data/', unzip=True)"
   ]
  },
  {
   "cell_type": "code",
   "execution_count": 3,
   "metadata": {
    "scrolled": true
   },
   "outputs": [
    {
     "data": {
      "text/html": [
       "<div>\n",
       "<style scoped>\n",
       "    .dataframe tbody tr th:only-of-type {\n",
       "        vertical-align: middle;\n",
       "    }\n",
       "\n",
       "    .dataframe tbody tr th {\n",
       "        vertical-align: top;\n",
       "    }\n",
       "\n",
       "    .dataframe thead th {\n",
       "        text-align: right;\n",
       "    }\n",
       "</style>\n",
       "<table border=\"1\" class=\"dataframe\">\n",
       "  <thead>\n",
       "    <tr style=\"text-align: right;\">\n",
       "      <th></th>\n",
       "      <th>URLs</th>\n",
       "      <th>Headline</th>\n",
       "      <th>Body</th>\n",
       "      <th>Label</th>\n",
       "    </tr>\n",
       "  </thead>\n",
       "  <tbody>\n",
       "    <tr>\n",
       "      <th>0</th>\n",
       "      <td>http://www.bbc.com/news/world-us-canada-414191...</td>\n",
       "      <td>Four ways Bob Corker skewered Donald Trump</td>\n",
       "      <td>Image copyright Getty Images\\nOn Sunday mornin...</td>\n",
       "      <td>1</td>\n",
       "    </tr>\n",
       "    <tr>\n",
       "      <th>1</th>\n",
       "      <td>https://www.reuters.com/article/us-filmfestiva...</td>\n",
       "      <td>Linklater's war veteran comedy speaks to moder...</td>\n",
       "      <td>LONDON (Reuters) - “Last Flag Flying”, a comed...</td>\n",
       "      <td>1</td>\n",
       "    </tr>\n",
       "    <tr>\n",
       "      <th>2</th>\n",
       "      <td>https://www.nytimes.com/2017/10/09/us/politics...</td>\n",
       "      <td>Trump’s Fight With Corker Jeopardizes His Legi...</td>\n",
       "      <td>The feud broke into public view last week when...</td>\n",
       "      <td>1</td>\n",
       "    </tr>\n",
       "    <tr>\n",
       "      <th>3</th>\n",
       "      <td>https://www.reuters.com/article/us-mexico-oil-...</td>\n",
       "      <td>Egypt's Cheiron wins tie-up with Pemex for Mex...</td>\n",
       "      <td>MEXICO CITY (Reuters) - Egypt’s Cheiron Holdin...</td>\n",
       "      <td>1</td>\n",
       "    </tr>\n",
       "    <tr>\n",
       "      <th>4</th>\n",
       "      <td>http://www.cnn.com/videos/cnnmoney/2017/10/08/...</td>\n",
       "      <td>Jason Aldean opens 'SNL' with Vegas tribute</td>\n",
       "      <td>Country singer Jason Aldean, who was performin...</td>\n",
       "      <td>1</td>\n",
       "    </tr>\n",
       "  </tbody>\n",
       "</table>\n",
       "</div>"
      ],
      "text/plain": [
       "                                                URLs  \\\n",
       "0  http://www.bbc.com/news/world-us-canada-414191...   \n",
       "1  https://www.reuters.com/article/us-filmfestiva...   \n",
       "2  https://www.nytimes.com/2017/10/09/us/politics...   \n",
       "3  https://www.reuters.com/article/us-mexico-oil-...   \n",
       "4  http://www.cnn.com/videos/cnnmoney/2017/10/08/...   \n",
       "\n",
       "                                            Headline  \\\n",
       "0         Four ways Bob Corker skewered Donald Trump   \n",
       "1  Linklater's war veteran comedy speaks to moder...   \n",
       "2  Trump’s Fight With Corker Jeopardizes His Legi...   \n",
       "3  Egypt's Cheiron wins tie-up with Pemex for Mex...   \n",
       "4        Jason Aldean opens 'SNL' with Vegas tribute   \n",
       "\n",
       "                                                Body  Label  \n",
       "0  Image copyright Getty Images\\nOn Sunday mornin...      1  \n",
       "1  LONDON (Reuters) - “Last Flag Flying”, a comed...      1  \n",
       "2  The feud broke into public view last week when...      1  \n",
       "3  MEXICO CITY (Reuters) - Egypt’s Cheiron Holdin...      1  \n",
       "4  Country singer Jason Aldean, who was performin...      1  "
      ]
     },
     "execution_count": 3,
     "metadata": {},
     "output_type": "execute_result"
    }
   ],
   "source": [
    "# Read in data\n",
    "# 1 if the article is true, 0 if the article is fake\n",
    "df = pd.read_csv('data/data.csv')\n",
    "df = df.dropna() # TODO: explore NAs\n",
    "df.head()"
   ]
  },
  {
   "cell_type": "markdown",
   "metadata": {},
   "source": [
    "# 2. Data Analysis"
   ]
  },
  {
   "cell_type": "code",
   "execution_count": 4,
   "metadata": {},
   "outputs": [
    {
     "data": {
      "image/png": "[encoded data removed]",
      "text/plain": [
       "<Figure size 432x288 with 1 Axes>"
      ]
     },
     "metadata": {
      "needs_background": "light"
     },
     "output_type": "display_data"
    }
   ],
   "source": [
    "df.Label.value_counts().plot.bar();"
   ]
  },
  {
   "cell_type": "markdown",
   "metadata": {},
   "source": [
    "# 3. Feature Selection"
   ]
  },
  {
   "cell_type": "code",
   "execution_count": 5,
   "metadata": {},
   "outputs": [],
   "source": [
    "y = df.Label\n",
    "X = df.drop(['Label', 'URLs'], axis=1)"
   ]
  },
  {
   "cell_type": "code",
   "execution_count": 6,
   "metadata": {},
   "outputs": [],
   "source": [
    "X_train, X_test, y_train, y_test = train_test_split(\n",
    "    X, y, test_size=0.3, random_state=42, shuffle=True)"
   ]
  },
  {
   "cell_type": "markdown",
   "metadata": {},
   "source": [
    "#  4. Modeling"
   ]
  },
  {
   "cell_type": "code",
   "execution_count": 7,
   "metadata": {},
   "outputs": [],
   "source": [
    "text_clf = Pipeline([\n",
    "    ('vect', CountVectorizer()),\n",
    "    ('tfidf', TfidfTransformer()),\n",
    "    ('clf', MultinomialNB()),\n",
    "])"
   ]
  },
  {
   "cell_type": "code",
   "execution_count": 8,
   "metadata": {},
   "outputs": [
    {
     "data": {
      "text/plain": [
       "Pipeline(memory=None,\n",
       "         steps=[('vect',\n",
       "                 CountVectorizer(analyzer='word', binary=False,\n",
       "                                 decode_error='strict',\n",
       "                                 dtype=<class 'numpy.int64'>, encoding='utf-8',\n",
       "                                 input='content', lowercase=True, max_df=1.0,\n",
       "                                 max_features=None, min_df=1,\n",
       "                                 ngram_range=(1, 1), preprocessor=None,\n",
       "                                 stop_words=None, strip_accents=None,\n",
       "                                 token_pattern='(?u)\\\\b\\\\w\\\\w+\\\\b',\n",
       "                                 tokenizer=None, vocabulary=None)),\n",
       "                ('tfidf',\n",
       "                 TfidfTransformer(norm='l2', smooth_idf=True,\n",
       "                                  sublinear_tf=False, use_idf=True)),\n",
       "                ('clf',\n",
       "                 MultinomialNB(alpha=1.0, class_prior=None, fit_prior=True))],\n",
       "         verbose=False)"
      ]
     },
     "execution_count": 8,
     "metadata": {},
     "output_type": "execute_result"
    }
   ],
   "source": [
    "text_clf.fit(X_train.Body, y_train)"
   ]
  },
  {
   "cell_type": "code",
   "execution_count": 9,
   "metadata": {},
   "outputs": [
    {
     "data": {
      "text/plain": [
       "['models/nb_model.joblib']"
      ]
     },
     "execution_count": 9,
     "metadata": {},
     "output_type": "execute_result"
    }
   ],
   "source": [
    "# Save model\n",
    "dump(text_clf, 'models/nb_model.joblib')"
   ]
  },
  {
   "cell_type": "markdown",
   "metadata": {},
   "source": [
    "# 5. Evaluation "
   ]
  },
  {
   "cell_type": "code",
   "execution_count": 10,
   "metadata": {},
   "outputs": [],
   "source": [
    "loaded_text_clf = load('models/nb_model.joblib') \n",
    "predicted = loaded_text_clf.predict(X_test.Body)"
   ]
  },
  {
   "cell_type": "code",
   "execution_count": 11,
   "metadata": {},
   "outputs": [
    {
     "name": "stdout",
     "output_type": "stream",
     "text": [
      "              precision    recall  f1-score   support\n",
      "\n",
      "           0       0.97      0.90      0.93       663\n",
      "           1       0.89      0.97      0.92       534\n",
      "\n",
      "    accuracy                           0.93      1197\n",
      "   macro avg       0.93      0.93      0.93      1197\n",
      "weighted avg       0.93      0.93      0.93      1197\n",
      "\n"
     ]
    }
   ],
   "source": [
    "print(metrics.classification_report(y_test, predicted))"
   ]
  },
  {
   "cell_type": "code",
   "execution_count": 12,
   "metadata": {},
   "outputs": [
    {
     "data": {
      "text/plain": [
       "array([[596,  67],\n",
       "       [ 17, 517]])"
      ]
     },
     "execution_count": 12,
     "metadata": {},
     "output_type": "execute_result"
    }
   ],
   "source": [
    "metrics.confusion_matrix(y_test, predicted)"
   ]
  },
  {
   "cell_type": "markdown",
   "metadata": {},
   "source": [
    "# 6. Extract Article from URL "
   ]
  },
  {
   "cell_type": "code",
   "execution_count": 13,
   "metadata": {},
   "outputs": [],
   "source": [
    "import newspaper"
   ]
  },
  {
   "cell_type": "code",
   "execution_count": 14,
   "metadata": {},
   "outputs": [],
   "source": [
    "url = 'https://www.bbc.com/news/world-us-canada-53507660'\n",
    "article = newspaper.Article(url) \n",
    "article.download()\n",
    "article.parse()"
   ]
  },
  {
   "cell_type": "code",
   "execution_count": 15,
   "metadata": {},
   "outputs": [
    {
     "data": {
      "text/plain": [
       "'Media playback is unsupported on your device Media caption Trump: Americans should walk city streets free from violence and fear\\n\\nPresident Donald Trump is to send \"a surge\" of federal security forces to US cities in a crackdown on crime.\\n\\nChicago and two other Democratic-run cities are being targeted in the Republican president\\'s move, amid a spike in violence.\\n\\nBut federal deployments in Portland, Oregon, amid ongoing unrest have been controversial. The city\\'s mayor was among those tear-gassed at a protest.\\n\\nLaw and order has become a key plank of Mr Trump\\'s re-election bid in November.\\n\\nSince the death on 25 May of an unarmed black man, George Floyd, in police custody in Minneapolis, Minnesota, there have been protests - sometimes descending into civil disorder - in scores of US cities.\\n\\nIn Portland, which has seen more than 50 days of demonstrations, Mayor Ted Wheeler was tear-gassed by federal agents while attending the city\\'s protest on Wednesday night.\\n\\nSpeaking to a New York Times reporter, the Democrat said the tear-gassing was \"an egregious overreaction\" by federal officers, and that he had seen \"nothing that provoked this response\".\\n\\n\"This is not a de-escalation strategy, this is flat-out urban warfare,\" Mr Wheeler said. Other local officials have similarly criticised the president\\'s tactics, saying he has escalated tensions in the city.\\n\\nMeanwhile, gun violence has spiked in metropolitan areas including New York City, Philadelphia, Los Angeles, Chicago and Milwaukee.\\n\\nWhat is Operation Legend?\\n\\nThe operation announced by President Trump is named after a four-year-old boy, LeGend Taliferro, who was shot dead while sleeping in his family home in Kansas City in June. The boy\\'s mother joined the president at Wednesday\\'s announcement.\\n\\nThe operation will see agents from the FBI, Marshals Service and other federal agencies work with local law enforcement, according to the US Department of Justice.\\n\\nMr Trump - whose opinion poll numbers have been slumping amid a coronavirus-crippled US economy - said: \"This rampage of violence shocks the conscience of our nation.\"\\n\\nThe president, who accuses Democrats of being weak on crime, said: \"In recent weeks there has been a radical movement to defend, dismantle and dissolve our police departments.\"\\n\\nHe blamed this for \"a shocking explosion of shootings, killings, murders and heinous crimes of violence\". He added: \"This bloodshed will end.\"\\n\\nUS Attorney General William Barr, who was with Mr Trump, said they had sent about 200 federal agents to Kansas City, Missouri. They would send a \"comparable\" number to Chicago and about 35 others to Albuquerque, New Mexico.\\n\\nMr Barr said the officers would be involved in \"classic crime fighting\", unlike the deployment of Department of Homeland Security agents which were sent to \"defend against riots and mob violence\" in Portland.\\n\\nHowever policing in the US is the responsibility of states, and governors and local officials have resisted the deployment of federal agents.\\n\\nOregon Governor Kate Brown has called it \"a blatant abuse of power,\" and Mayor Ted Wheeler \"an attack on our democracy.\"\\n\\nChicago Mayor Lori Lightfoot said on Tuesday: \"We welcome actual partnership, but we do not welcome dictatorship.\"\\n\\nMedia playback is unsupported on your device Media caption Portland protests: Calls for federal troops to leave US city\\n\\nWhat is going on in those cities?\\n\\nIn Portland protests have been held every night since Floyd\\'s death in May. In recent days demonstrators have clashed with federal officers sent earlier this month to the city to guard a court.\\n\\nThe agents have been accused of driving in unmarked vehicles around Oregon\\'s biggest city while wearing military fatigues and arbitrarily arresting a handful of demonstrators.\\n\\nMedia playback is unsupported on your device Media caption Life and death on the lost streets of Chicago\\n\\nIn the latest incident in Chicago, at least 14 people were shot outside a funeral home in a suspected gang-related attack.\\n\\nThe city has seen 34% more homicides than last year, according to the Chicago Sun-Times.\\n\\nA 2018 FBI survey found the violent crime rate in Albuquerque was 3.7 times the national average. The rates of murder and rape were more than double the national average that year.\\n\\nKansas City, meanwhile, is on track to record its most homicides ever in 2020, according to the Kansas City Star.\\n\\nDefending the intervention of federal troops on Monday, President Trump blamed the violence in those Democrat-controlled cities to the fact that they are \"all run, really, by the radical left\".\\n\\nCrime-fighting or electioneering?\\n\\nAnalysis by Tara McKelvey, Kansas City\\n\\nMany people in Kansas City say the president\\'s plan is not what this place needs. Kansas City leans Democratic, and many are opposed to the president\\'s policies and object to his aggressive law-and-order mandate.\\n\\nTraditionally crime-fighting programmes are popular during election campaigns, and critics of the president say this initiative is directed more at his conservative supporters in the rural heartland than those who live in Kansas City and other urban areas.\\n\\nMr Trump\\'s critics say the initiative is not really an effort to fight urban crime, claiming it is simply a way to drum up enthusiasm among the president\\'s base of supporters before the election.\\n\\nWhy is crime spiking?\\n\\nCriminal justice experts note the crime wave has struck in the middle of a coronavirus epidemic that has ushered in mass unemployment.\\n\\nThe Police Executive Research Forum, a law-enforcement nonprofit, told ABC News that one factor behind the uptick was various jurisdictions granting early release to inmates to prevent the spread of Covid-19 in prisons.\\n\\nNew York City police have blamed the spike there on a bail reform law that requires judges to release defendants awaiting trial on serious crimes.\\n\\nStay-at-home orders have made it difficult for officers to conduct community outreach, while Floyd\\'s killing has fuelled distrust of law enforcement in the areas they serve, say criminal justice experts.\\n\\nNYPD Chief Terence Monahan said hostility towards his officers over the last couple of months had emboldened some people who believed \"that cops can\\'t do anything anymore\".\\n\\nThere is also a suggestion that some law enforcement could be taking a step back in frustration over anti-police rhetoric.\\n\\nAccording to CBS News, members of Chicago\\'s police union recently encouraged officers in a text message not to volunteer for overtime, to limit arrests and to call in sick to make a point to city hall about the need for law enforcement.'"
      ]
     },
     "execution_count": 15,
     "metadata": {},
     "output_type": "execute_result"
    }
   ],
   "source": [
    "article.text"
   ]
  }
 ],
 "metadata": {
  "kernelspec": {
   "display_name": "Python 3",
   "language": "python",
   "name": "python3"
  },
  "language_info": {
   "codemirror_mode": {
    "name": "ipython",
    "version": 3
   },
   "file_extension": ".py",
   "mimetype": "text/x-python",
   "name": "python",
   "nbconvert_exporter": "python",
   "pygments_lexer": "ipython3",
   "version": "3.7.6"
  }
 },
 "nbformat": 4,
 "nbformat_minor": 4
}
